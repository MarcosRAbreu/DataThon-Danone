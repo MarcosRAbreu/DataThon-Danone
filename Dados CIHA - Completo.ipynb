{
 "cells": [
  {
   "cell_type": "markdown",
   "metadata": {},
   "source": [
    "## Analise exploratoria dos dados\n",
    "### Analise dos dados conseguidos no datasus e outros dados abertos da saude\n",
    "\n",
    "O \"Import\" carrega as biblioteca que serão utilizadas nesta analise.\n",
    "Breve descrição das biblioteca.\n",
    "O \"Sqlite\" é uma biblioteca para conexão com bancos de dados tipo relacionais.\n",
    "Pandas é a principal biblioteca para manipulação de dados, criação de \"¹data frame\", divição e quassificação de banco de dados.\n",
    "\n",
    "¹Um data frame é semelhante a uma matriz mas as suas colunas têm nomes e podem conter dados de tipo diferente. Um data frame pode ser visto como uma tabela de uma base de dados, em que cada linha corresponde a um registo (linha) da tabela.\n",
    "Fonte:https://www.dcc.fc.up.pt/~ltorgo/SebentaR/HTML/node16.html#:~:text=Um%20data%20frame%20%C3%A9%20semelhante,registo%20(linha)%20da%20tabela.\n",
    "\n",
    "\"Matplotlib\" é uma biblioteca de software para criação de gráficos e visualizações de dados em geral, feita para e da linguagem de programação Python e sua extensão de matemática NumPy. Originalmente criada pelo biólogo e neurocientista americano John D. Wikipédia. Fonte:https://pt.wikipedia.org/wiki/Matplotlib\n",
    "Seaborn é uma biblioteca para visualização de dados baseado em Matplotlib"
   ]
  },
  {
   "cell_type": "code",
   "execution_count": 1,
   "metadata": {},
   "outputs": [],
   "source": [
    "import sqlite3\n",
    "import pandas as pd\n",
    "import matplotlib.pyplot as plt\n",
    "import matplotlib.dates as mdatas\n",
    "import seaborn as sns"
   ]
  },
  {
   "cell_type": "markdown",
   "metadata": {},
   "source": [
    "Criação do objeto \"connection\" que conecta aos dados e do objeto \"df\" que vai contenter os dados."
   ]
  },
  {
   "cell_type": "code",
   "execution_count": 2,
   "metadata": {},
   "outputs": [],
   "source": [
    "connection = sqlite3.connect('dataset/bd_convertido_ciha_20201201_CO.db')\n",
    "df = pd.DataFrame()"
   ]
  },
  {
   "cell_type": "markdown",
   "metadata": {},
   "source": [
    "¹Função para leitura dos dados.\n",
    "Uma ¹função é uma sequência de comandos que executa alguma tarefa e que tem um nome.\n",
    "A sua principal finalidade é nos ajudar a organizar programas em pedaços\n",
    "que correspondam a como imaginamos uma solução do problema.\n",
    "Fonte:https://panda.ime.usp.br/pensepy/static/pensepy/05-Funcoes/funcoes.html\n",
    "A função é definida pela palavra reservada \"def\" no inicio do codigo."
   ]
  },
  {
   "cell_type": "code",
   "execution_count": 5,
   "metadata": {},
   "outputs": [],
   "source": [
    "def lerDados(table_name):\n",
    "    df = pd.read_sql(\"SELECT * FROM %s\" % table_name, connection)\n",
    "    return df"
   ]
  },
  {
   "cell_type": "markdown",
   "metadata": {},
   "source": [
    "Lendo tabela por tabela do banco de dados\n",
    "Não foi incluso todos os estados para não travar na hora da execução.\n",
    "Alguns estados como Sp deram erro de memoria ao tentar ler."
   ]
  },
  {
   "cell_type": "code",
   "execution_count": 6,
   "metadata": {},
   "outputs": [],
   "source": [
    "dfAC = lerDados('AC')"
   ]
  },
  {
   "cell_type": "code",
   "execution_count": 7,
   "metadata": {},
   "outputs": [],
   "source": [
    "dfAL = lerDados('AL')"
   ]
  },
  {
   "cell_type": "code",
   "execution_count": 8,
   "metadata": {},
   "outputs": [],
   "source": [
    "dfAM = lerDados('AM')"
   ]
  },
  {
   "cell_type": "code",
   "execution_count": 9,
   "metadata": {},
   "outputs": [],
   "source": [
    "dfAP = lerDados('AP')"
   ]
  },
  {
   "cell_type": "code",
   "execution_count": 10,
   "metadata": {},
   "outputs": [],
   "source": [
    "dfBA = lerDados('BA')"
   ]
  },
  {
   "cell_type": "code",
   "execution_count": 11,
   "metadata": {},
   "outputs": [],
   "source": [
    "dfCE = lerDados('CE')"
   ]
  },
  {
   "cell_type": "code",
   "execution_count": 12,
   "metadata": {},
   "outputs": [],
   "source": [
    "dfDF = lerDados('DF')"
   ]
  },
  {
   "cell_type": "code",
   "execution_count": 13,
   "metadata": {},
   "outputs": [],
   "source": [
    "dfES = lerDados('ES')"
   ]
  },
  {
   "cell_type": "code",
   "execution_count": 14,
   "metadata": {},
   "outputs": [],
   "source": [
    "dfGO = lerDados('GO')"
   ]
  },
  {
   "cell_type": "code",
   "execution_count": 15,
   "metadata": {},
   "outputs": [],
   "source": [
    "dfMA = lerDados('MA')"
   ]
  },
  {
   "cell_type": "code",
   "execution_count": 16,
   "metadata": {},
   "outputs": [],
   "source": [
    "dfMS = lerDados('MS')"
   ]
  },
  {
   "cell_type": "code",
   "execution_count": 17,
   "metadata": {},
   "outputs": [],
   "source": [
    "dfMT = lerDados('MT')"
   ]
  },
  {
   "cell_type": "code",
   "execution_count": 18,
   "metadata": {},
   "outputs": [],
   "source": [
    "dfPA = lerDados('PA')"
   ]
  },
  {
   "cell_type": "code",
   "execution_count": 19,
   "metadata": {},
   "outputs": [],
   "source": [
    "dfPB = lerDados('PB')"
   ]
  },
  {
   "cell_type": "code",
   "execution_count": 20,
   "metadata": {},
   "outputs": [],
   "source": [
    "dfPE = lerDados('PE')"
   ]
  },
  {
   "cell_type": "code",
   "execution_count": 21,
   "metadata": {},
   "outputs": [],
   "source": [
    "dfPI = lerDados('PI')"
   ]
  },
  {
   "cell_type": "code",
   "execution_count": 22,
   "metadata": {},
   "outputs": [],
   "source": [
    "dfRN = lerDados('RN')"
   ]
  },
  {
   "cell_type": "code",
   "execution_count": 23,
   "metadata": {},
   "outputs": [],
   "source": [
    "dfRO = lerDados('RO')"
   ]
  },
  {
   "cell_type": "code",
   "execution_count": 24,
   "metadata": {},
   "outputs": [],
   "source": [
    "dfSE = lerDados('SE')"
   ]
  },
  {
   "cell_type": "markdown",
   "metadata": {},
   "source": [
    "Juntando os dados com a função append.\n",
    "<p>Criação do csv com parte dos dados.\n",
    "Mais a frente os arquivos de csv com os dados serão juntados em um só objeto de dados.</p>"
   ]
  },
  {
   "cell_type": "code",
   "execution_count": 25,
   "metadata": {},
   "outputs": [],
   "source": [
    "df = df.append(dfAC)"
   ]
  },
  {
   "cell_type": "code",
   "execution_count": 26,
   "metadata": {},
   "outputs": [],
   "source": [
    "df = df.append(dfAL)"
   ]
  },
  {
   "cell_type": "code",
   "execution_count": 27,
   "metadata": {},
   "outputs": [],
   "source": [
    "df = df.append(dfAM)"
   ]
  },
  {
   "cell_type": "code",
   "execution_count": 28,
   "metadata": {},
   "outputs": [],
   "source": [
    "df = df.append(dfAP)"
   ]
  },
  {
   "cell_type": "code",
   "execution_count": 29,
   "metadata": {},
   "outputs": [],
   "source": [
    "df = df.append(dfBA)"
   ]
  },
  {
   "cell_type": "code",
   "execution_count": 30,
   "metadata": {},
   "outputs": [],
   "source": [
    "df = df.append(dfCE)"
   ]
  },
  {
   "cell_type": "code",
   "execution_count": 31,
   "metadata": {},
   "outputs": [],
   "source": [
    "df = df.append(dfDF)"
   ]
  },
  {
   "cell_type": "code",
   "execution_count": 32,
   "metadata": {},
   "outputs": [],
   "source": [
    "df = df.append(dfES)"
   ]
  },
  {
   "cell_type": "code",
   "execution_count": null,
   "metadata": {},
   "outputs": [],
   "source": [
    "df = df.append(dfGO)"
   ]
  },
  {
   "cell_type": "code",
   "execution_count": null,
   "metadata": {},
   "outputs": [],
   "source": [
    "df = df.append(dfMA)"
   ]
  },
  {
   "cell_type": "code",
   "execution_count": null,
   "metadata": {},
   "outputs": [],
   "source": [
    "df = df.append(dfMG)"
   ]
  },
  {
   "cell_type": "code",
   "execution_count": null,
   "metadata": {},
   "outputs": [],
   "source": [
    "df = df.append(dfMS)"
   ]
  },
  {
   "cell_type": "code",
   "execution_count": null,
   "metadata": {},
   "outputs": [],
   "source": [
    "df = df.append(dfMT)"
   ]
  },
  {
   "cell_type": "code",
   "execution_count": null,
   "metadata": {},
   "outputs": [],
   "source": [
    "df = df.append(dfPA)"
   ]
  },
  {
   "cell_type": "code",
   "execution_count": null,
   "metadata": {},
   "outputs": [],
   "source": [
    "df = df.append(dfPB)"
   ]
  },
  {
   "cell_type": "code",
   "execution_count": null,
   "metadata": {},
   "outputs": [],
   "source": [
    "df = df.append(dfPE)"
   ]
  },
  {
   "cell_type": "code",
   "execution_count": null,
   "metadata": {},
   "outputs": [],
   "source": [
    "df = df.append(dfPI)"
   ]
  },
  {
   "cell_type": "code",
   "execution_count": null,
   "metadata": {},
   "outputs": [],
   "source": [
    "df = df.append(dfRN)"
   ]
  },
  {
   "cell_type": "code",
   "execution_count": null,
   "metadata": {},
   "outputs": [],
   "source": [
    "df = df.append(dfRO)"
   ]
  },
  {
   "cell_type": "code",
   "execution_count": null,
   "metadata": {},
   "outputs": [],
   "source": [
    "df = df.append(dfSE)"
   ]
  },
  {
   "cell_type": "code",
   "execution_count": null,
   "metadata": {},
   "outputs": [],
   "source": [
    "df.to_csv('TCIHA.csv')\n",
    "df.head(3)"
   ]
  },
  {
   "cell_type": "markdown",
   "metadata": {},
   "source": [
    "Verificação de quais colunas tem uma quantidade muito grande de nulos."
   ]
  },
  {
   "cell_type": "code",
   "execution_count": null,
   "metadata": {},
   "outputs": [],
   "source": [
    "df.isnull().mean()"
   ]
  },
  {
   "cell_type": "code",
   "execution_count": null,
   "metadata": {},
   "outputs": [],
   "source": [
    "df.isnull().sum()"
   ]
  },
  {
   "cell_type": "markdown",
   "metadata": {},
   "source": [
    "Quantidade de nulos percentualmente."
   ]
  },
  {
   "cell_type": "code",
   "execution_count": null,
   "metadata": {},
   "outputs": [],
   "source": [
    "df.isnull().value_counts() / df.shape()*100+\"%\""
   ]
  },
  {
   "cell_type": "markdown",
   "metadata": {},
   "source": [
    "Drop é o comando para excluir linha ou colunas, no caso abaixo estes são nomes de colunas.\n",
    "Foi feito a exclusão desta colunas porque estavam vazias ou com muito dados nulo."
   ]
  },
  {
   "cell_type": "code",
   "execution_count": null,
   "metadata": {},
   "outputs": [],
   "source": [
    "dfsemNull = df.drop(columns=['NACIONAL','CAR_INT','HOMONIMO','UTI_MES_TO','ESPEC'])"
   ]
  },
  {
   "cell_type": "markdown",
   "metadata": {},
   "source": [
    "Visualização dos primeiros resultados"
   ]
  },
  {
   "cell_type": "code",
   "execution_count": null,
   "metadata": {},
   "outputs": [],
   "source": [
    "dfsemNull.head()"
   ]
  },
  {
   "cell_type": "markdown",
   "metadata": {},
   "source": [
    "Verificação dos tipos de dados da base de dados"
   ]
  },
  {
   "cell_type": "code",
   "execution_count": null,
   "metadata": {},
   "outputs": [],
   "source": [
    "dfsemNull.info()"
   ]
  },
  {
   "cell_type": "markdown",
   "metadata": {},
   "source": [
    "Estatísticas basicas dos dados.\n",
    "As estatísticas descritivas incluem aquelas que resumem a tendência central, a dispersão e a forma da distribuição de um conjunto de dados, excluindo os valores nulos.\n",
    "Fonte: https://pandas.pydata.org/pandas-docs/stable/reference/api/pandas.DataFrame.describe.html"
   ]
  },
  {
   "cell_type": "code",
   "execution_count": null,
   "metadata": {
    "scrolled": false
   },
   "outputs": [],
   "source": [
    "dfsemNull.describe()"
   ]
  },
  {
   "cell_type": "markdown",
   "metadata": {},
   "source": [
    "Conversão dos dados de Object para seus respectivos \"tipos de dados\".\n",
    "Em ciência da computação tipos de variáveis ou dados é uma combinação de valores e de operações que uma variável pode executar, o que pode variar conforme o sistema operacional e a linguagem de computador.\n",
    "Fonte:https://pt.wikipedia.org/wiki/Tipo_de_dado.\n",
    "<p>Existem varios tipos de dados, boleanos, numéricos, texto, datas. E cada tipo tem uma característica.</p>\n",
    "<p>Para mais ver no link abaixo.</p>\n",
    "https://homepages.dcc.ufmg.br/~rimsa/documents/decom009/lessons/Aula04.pdf\n"
   ]
  },
  {
   "cell_type": "code",
   "execution_count": null,
   "metadata": {},
   "outputs": [],
   "source": [
    "dfsemNull['ANO_CMPT'] = pd.to_string(dfsemNull['ANO_CMPT'])\n",
    "dfsemNull['MES_CMPT'] = pd.to_string(dfsemNull['MES_CMPT'])\n",
    "dfsemNull['MES/ANO'] = dfsemNull['MES_CMPT']+\"/\"+dfsemNull['ANO_CMPT']\n",
    "dfsemNull['MES/ANO'] = pd.to_datetime(dfsemNull['MES/ANO'])\n",
    "dfsemNull['IDADE'] = pd.to_numeric(dfsemNull['IDADE'])\n",
    "dfsemNull['DIAS_PERM'] = pd.to_numeric(dfsemNull['DIAS_PERM'])\n",
    "dfsemNull['UTI_INT_TO'] = pd.to_numeric(dfsemNull['UTI_INT_TO'])\n",
    "dfsemNull['QT_PROC'] = pd.to_numeric(dfsemNull['QT_PROC'])\n",
    "dfsemNull['DT_ATEND'] = pd.to_datetime(dfsemNull['DT_ATEND'])\n",
    "dfsemNull['DT_SAIDA'] = pd.to_datetime(dfsemNull['DT_SAIDA'])\n",
    "#dfsemNull = dfsemNull.dropna('DIAG_PRINC', inplace=True)\n",
    "print(\"Media de idade: \",round(dfsemNull['IDADE'].mean()))\n",
    "print(\"Media de tempo de permanencia: \",round(dfsemNull['DIAS_PERM'].mean()))"
   ]
  },
  {
   "cell_type": "markdown",
   "metadata": {},
   "source": [
    "Separando os dados que contem idade igual ou maior que 60 anos focando no negocio."
   ]
  },
  {
   "cell_type": "code",
   "execution_count": null,
   "metadata": {},
   "outputs": [],
   "source": [
    "df60 = dfsemNull[dfsemNull['IDADE']>=60]"
   ]
  },
  {
   "cell_type": "markdown",
   "metadata": {},
   "source": [
    "Verificando média de idade e permanencia de internação."
   ]
  },
  {
   "cell_type": "code",
   "execution_count": null,
   "metadata": {},
   "outputs": [],
   "source": [
    "print(\"Media de idade: \",round(df60['IDADE'].mean()))\n",
    "print(\"Media de tempo de permanencia: \",round(df60['DIAS_PERM'].mean()))"
   ]
  },
  {
   "cell_type": "markdown",
   "metadata": {},
   "source": [
    "Grafico referente a Idade e permanência"
   ]
  },
  {
   "cell_type": "code",
   "execution_count": null,
   "metadata": {},
   "outputs": [],
   "source": [
    "#criando uma figure, axes\n",
    "fig, ax = plt.subplots()\n",
    "#criando o gráfico de barras \n",
    "sns.barplot(x=df60['IDADE'], y=df60['DIAS_PERM'], ax=ax, data=df60)\n",
    "#adicionando título\n",
    "ax.set_title(\"Grafico de Idade x Permanência de internação\", fontdict={'fontsize':12})\n",
    "#otimizar espaço da figure\n",
    "fig.tight_layout();"
   ]
  },
  {
   "cell_type": "markdown",
   "metadata": {},
   "source": [
    "Quantidade percentual de internados maiores de 60 anos.\n",
    "Contando a base inicial de idades e dividindo pela contagem de idade da base \"df60\"."
   ]
  },
  {
   "cell_type": "code",
   "execution_count": null,
   "metadata": {},
   "outputs": [],
   "source": [
    "percentInt60 = round((df60.IDADE.count()/df.IDADE.count())*100,2)\n",
    "print(\"Percentual de internados maiores de 60 anos:\",percentInt60,\"%\")"
   ]
  },
  {
   "cell_type": "markdown",
   "metadata": {},
   "source": [
    "Retirando os \"None\" da base."
   ]
  },
  {
   "cell_type": "code",
   "execution_count": null,
   "metadata": {},
   "outputs": [],
   "source": [
    "df60 = filter(lambda x: x is not None, df60)\n",
    "df60.head()"
   ]
  },
  {
   "cell_type": "code",
   "execution_count": null,
   "metadata": {},
   "outputs": [],
   "source": [
    "#criando uma figure, axes\n",
    "fig, ax = plt.subplots()\n",
    "#criando o gráfico de barras \n",
    "sns.barplot(x=df60['SEXO'], y=df60['DIAS_PERM'], ax=ax, data=df60)\n",
    "#adicionando título\n",
    "ax.set_title(\"Grafico: Sexo x Permanência de internação\", fontdict={'fontsize':12})\n",
    "#otimizar espaço da figure\n",
    "fig.tight_layout();"
   ]
  },
  {
   "cell_type": "code",
   "execution_count": null,
   "metadata": {},
   "outputs": [],
   "source": [
    "sns.heatmap(df60.corr())"
   ]
  }
 ],
 "metadata": {
  "kernelspec": {
   "display_name": "Python 3",
   "language": "python",
   "name": "python3"
  },
  "language_info": {
   "codemirror_mode": {
    "name": "ipython",
    "version": 3
   },
   "file_extension": ".py",
   "mimetype": "text/x-python",
   "name": "python",
   "nbconvert_exporter": "python",
   "pygments_lexer": "ipython3",
   "version": "3.8.3"
  }
 },
 "nbformat": 4,
 "nbformat_minor": 4
}
